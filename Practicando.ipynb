{
 "cells": [
  {
   "cell_type": "markdown",
   "id": "dd55b2e0",
   "metadata": {},
   "source": [
    "**Trabajo Final Tratamiento de Datos**\n",
    "Jorge Gabriel Sampedro    "
   ]
  },
  {
   "cell_type": "markdown",
   "id": "093ebec0",
   "metadata": {},
   "source": [
    "*RED NEURONAL CONVOLUCIONAL*"
   ]
  },
  {
   "cell_type": "code",
   "execution_count": 5,
   "id": "06be103c",
   "metadata": {
    "scrolled": false
   },
   "outputs": [],
   "source": [
    "import numpy as np\n",
    "import os\n",
    "import re\n",
    "import matplotlib.pyplot as plt\n",
    "%matplotlib inline\n",
    "from sklearn.model_selection import train_test_split\n",
    "from sklearn.metrics import classification_report"
   ]
  },
  {
   "cell_type": "code",
   "execution_count": 9,
   "id": "2c33d1f0",
   "metadata": {},
   "outputs": [
    {
     "name": "stdout",
     "output_type": "stream",
     "text": [
      "Collecting matplotlib\n",
      "  Downloading matplotlib-3.5.3-cp38-cp38-win_amd64.whl (7.2 MB)\n",
      "     ---------------------------------------- 7.2/7.2 MB 3.9 MB/s eta 0:00:00\n",
      "Collecting kiwisolver>=1.0.1\n",
      "  Downloading kiwisolver-1.4.4-cp38-cp38-win_amd64.whl (55 kB)\n",
      "     -------------------------------------- 55.4/55.4 kB 960.5 kB/s eta 0:00:00\n",
      "Collecting cycler>=0.10\n",
      "  Downloading cycler-0.11.0-py3-none-any.whl (6.4 kB)\n",
      "Requirement already satisfied: numpy>=1.17 in c:\\users\\jorge\\anaconda3\\envs\\proyecto1\\lib\\site-packages (from matplotlib) (1.23.2)\n",
      "Requirement already satisfied: packaging>=20.0 in c:\\users\\jorge\\anaconda3\\envs\\proyecto1\\lib\\site-packages (from matplotlib) (21.3)\n",
      "Requirement already satisfied: pyparsing>=2.2.1 in c:\\users\\jorge\\anaconda3\\envs\\proyecto1\\lib\\site-packages (from matplotlib) (3.0.9)\n",
      "Collecting fonttools>=4.22.0\n",
      "  Downloading fonttools-4.37.1-py3-none-any.whl (957 kB)\n",
      "     -------------------------------------- 957.2/957.2 kB 4.0 MB/s eta 0:00:00\n",
      "Requirement already satisfied: python-dateutil>=2.7 in c:\\users\\jorge\\anaconda3\\envs\\proyecto1\\lib\\site-packages (from matplotlib) (2.8.2)\n",
      "Collecting pillow>=6.2.0\n",
      "  Downloading Pillow-9.2.0-cp38-cp38-win_amd64.whl (3.3 MB)\n",
      "     ---------------------------------------- 3.3/3.3 MB 3.3 MB/s eta 0:00:00\n",
      "Requirement already satisfied: six>=1.5 in c:\\users\\jorge\\anaconda3\\envs\\proyecto1\\lib\\site-packages (from python-dateutil>=2.7->matplotlib) (1.16.0)\n",
      "Installing collected packages: pillow, kiwisolver, fonttools, cycler, matplotlib\n",
      "Successfully installed cycler-0.11.0 fonttools-4.37.1 kiwisolver-1.4.4 matplotlib-3.5.3 pillow-9.2.0\n"
     ]
    }
   ],
   "source": [
    "!pip install matplotlib"
   ]
  },
  {
   "cell_type": "code",
   "execution_count": 10,
   "id": "0397f1b3",
   "metadata": {},
   "outputs": [],
   "source": [
    "import keras"
   ]
  },
  {
   "cell_type": "code",
   "execution_count": 4,
   "id": "0453d0ba",
   "metadata": {},
   "outputs": [],
   "source": [
    "from keras.utils import to_categorical"
   ]
  },
  {
   "cell_type": "code",
   "execution_count": 20,
   "id": "e086faff",
   "metadata": {},
   "outputs": [],
   "source": [
    "from tensorflow.keras.layers import (BatchNormalization, SeparableConv2D, MaxPooling2D, Activation, Flatten, Dropout, Dense)"
   ]
  },
  {
   "cell_type": "code",
   "execution_count": 6,
   "id": "9a8a223c",
   "metadata": {},
   "outputs": [],
   "source": [
    "from tensorflow.keras.layers import LeakyReLU"
   ]
  },
  {
   "cell_type": "code",
   "execution_count": 7,
   "id": "4051975a",
   "metadata": {},
   "outputs": [
    {
     "name": "stdout",
     "output_type": "stream",
     "text": [
      "leyendo imagenes de  C:\\Users\\Jorge\\Documents\\Ciberseguridad\\Tratamiento de datos\\final\\train\\\n",
      "C:\\Users\\Jorge\\Documents\\Ciberseguridad\\Tratamiento de datos\\final\\train\\CLASS_02 1\n",
      "C:\\Users\\Jorge\\Documents\\Ciberseguridad\\Tratamiento de datos\\final\\train\\CLASS_03 62\n",
      "C:\\Users\\Jorge\\Documents\\Ciberseguridad\\Tratamiento de datos\\final\\train\\CLASS_04 213\n",
      "C:\\Users\\Jorge\\Documents\\Ciberseguridad\\Tratamiento de datos\\final\\train\\CLASS_05 105\n",
      "C:\\Users\\Jorge\\Documents\\Ciberseguridad\\Tratamiento de datos\\final\\train\\CLASS_06 949\n",
      "C:\\Users\\Jorge\\Documents\\Ciberseguridad\\Tratamiento de datos\\final\\train\\CLASS_07 37\n",
      "C:\\Users\\Jorge\\Documents\\Ciberseguridad\\Tratamiento de datos\\final\\train\\CLASS_08 204\n",
      "Directorios leidos: 7\n",
      "Imagenes en cada directorio [63, 213, 105, 949, 37, 204, 62]\n",
      "suma Total de imagenes en subdirs: 1633\n"
     ]
    }
   ],
   "source": [
    "dirname = os.path.join(os.getcwd(), 'train')\n",
    "imgpath = dirname + os.sep \n",
    " \n",
    "images = []\n",
    "directories = []\n",
    "dircount = []\n",
    "prevRoot=''\n",
    "cant=0\n",
    " \n",
    "print(\"leyendo imagenes de \",imgpath)\n",
    " \n",
    "for root, dirnames, filenames in os.walk(imgpath):\n",
    "    for filename in filenames:\n",
    "        if re.search(\"\\.(jpg|jpeg|png|bmp|tiff)$\", filename):\n",
    "            cant=cant+1\n",
    "            filepath = os.path.join(root, filename)\n",
    "            image = plt.imread(filepath)\n",
    "            images.append(image)\n",
    "            b = \"Leyendo...\" + str(cant)\n",
    "            print (b, end=\"\\r\")\n",
    "            if prevRoot !=root:\n",
    "                print(root, cant)\n",
    "                prevRoot=root\n",
    "                directories.append(root)\n",
    "                dircount.append(cant)\n",
    "                cant=0\n",
    "dircount.append(cant)\n",
    " \n",
    "dircount = dircount[1:]\n",
    "dircount[0]=dircount[0]+1\n",
    "print('Directorios leidos:',len(directories))\n",
    "print(\"Imagenes en cada directorio\", dircount)\n",
    "print('suma Total de imagenes en subdirs:',sum(dircount))"
   ]
  },
  {
   "cell_type": "code",
   "execution_count": 8,
   "id": "d59303ad",
   "metadata": {},
   "outputs": [
    {
     "name": "stdout",
     "output_type": "stream",
     "text": [
      "Cantidad etiquetas creadas:  1633\n",
      "0 CLASS_02\n",
      "1 CLASS_03\n",
      "2 CLASS_04\n",
      "3 CLASS_05\n",
      "4 CLASS_06\n",
      "5 CLASS_07\n",
      "6 CLASS_08\n",
      "Total number of outputs :  7\n",
      "Output classes :  [0 1 2 3 4 5 6]\n"
     ]
    }
   ],
   "source": [
    "labels=[]\n",
    "indice=0\n",
    "for cantidad in dircount:\n",
    "    for i in range(cantidad):\n",
    "        labels.append(indice)\n",
    "    indice=indice+1\n",
    "print(\"Cantidad etiquetas creadas: \",len(labels))\n",
    " \n",
    "carnes=[]\n",
    "indice=0\n",
    "for directorio in directories:\n",
    "    name = directorio.split(os.sep)\n",
    "    print(indice , name[len(name)-1])\n",
    "    carnes.append(name[len(name)-1])\n",
    "    indice=indice+1\n",
    " \n",
    "y = np.array(labels)\n",
    "X = np.array(images, dtype=np.uint8) #para crear la lista a numpy\n",
    " \n",
    "# Los número de las etiquetas\n",
    "classes = np.unique(y)\n",
    "nClasses = len(classes)\n",
    "print('Total number of outputs : ', nClasses)\n",
    "print('Output classes : ', classes)"
   ]
  },
  {
   "cell_type": "code",
   "execution_count": 9,
   "id": "cfa4ccf6",
   "metadata": {},
   "outputs": [
    {
     "name": "stdout",
     "output_type": "stream",
     "text": [
      "Training data shape :  (1469, 216, 384, 3) (1469,)\n",
      "Testing data shape :  (164, 216, 384, 3) (164,)\n"
     ]
    }
   ],
   "source": [
    "#Permutación aleatoria entre datos de validación y de test\n",
    "train_X,test_X,train_Y,test_Y = train_test_split(X,y,test_size=0.1)\n",
    "print('Training data shape : ', train_X.shape, train_Y.shape)\n",
    "print('Testing data shape : ', test_X.shape, test_Y.shape)"
   ]
  },
  {
   "cell_type": "code",
   "execution_count": 10,
   "id": "3d65d82a",
   "metadata": {},
   "outputs": [
    {
     "data": {
      "text/plain": [
       "Text(0.5, 1.0, 'Ground Truth : 3')"
      ]
     },
     "execution_count": 10,
     "metadata": {},
     "output_type": "execute_result"
    },
    {
     "data": {
      "image/png": "[encoded data removed]",
      "text/plain": [
       "<Figure size 500x500 with 1 Axes>"
      ]
     },
     "metadata": {},
     "output_type": "display_data"
    }
   ],
   "source": [
    "train_X = train_X.astype('float32')\n",
    "test_X = test_X.astype('float32')\n",
    "train_X = train_X / 255.\n",
    "test_X = test_X / 255.\n",
    " \n",
    "# Cambiar las etiquetas de categorical a one hot encoding\n",
    "train_Y_one_hot = to_categorical(train_Y)\n",
    "test_Y_one_hot = to_categorical(test_Y)\n",
    "\n",
    "plt.figure(figsize=[5,5])\n",
    "\n",
    "# Mostrar la primera imagen del entrenamiento en grises\n",
    "plt.subplot(121)\n",
    "plt.imshow(train_X[0,:,:], cmap='gray')\n",
    "plt.title(\"Ground Truth : {}\".format(train_Y[0]))"
   ]
  },
  {
   "cell_type": "code",
   "execution_count": 11,
   "id": "05be2a72",
   "metadata": {
    "scrolled": true
   },
   "outputs": [
    {
     "name": "stdout",
     "output_type": "stream",
     "text": [
      "Original label: 3\n",
      "After conversion to one-hot: [0. 0. 0. 1. 0. 0. 0.]\n",
      "(1322, 216, 384, 3) (147, 216, 384, 3) (1322, 7) (147, 7)\n"
     ]
    }
   ],
   "source": [
    "#Mostrar el cambio\n",
    "print('Original label:', train_Y[0])\n",
    "print('After conversion to one-hot:', train_Y_one_hot[0])\n",
    " \n",
    "train_X,valid_X,train_label,valid_label = train_test_split(train_X, train_Y_one_hot, test_size=0.1, random_state=13)\n",
    " \n",
    "print(train_X.shape,valid_X.shape,train_label.shape,valid_label.shape)"
   ]
  },
  {
   "cell_type": "markdown",
   "id": "c7fba33b",
   "metadata": {},
   "source": [
    "Definir la CNN"
   ]
  },
  {
   "cell_type": "code",
   "execution_count": 12,
   "id": "39a3041f",
   "metadata": {},
   "outputs": [],
   "source": [
    "INIT_LR = 1e-3\n",
    "epochs = 20\n",
    "batch_size = 32"
   ]
  },
  {
   "cell_type": "code",
   "execution_count": 15,
   "id": "d419bdb2",
   "metadata": {},
   "outputs": [],
   "source": [
    "from keras.models import Sequential"
   ]
  },
  {
   "cell_type": "code",
   "execution_count": 24,
   "id": "90b67b08",
   "metadata": {},
   "outputs": [],
   "source": [
    "from keras.layers import Convolution2D"
   ]
  },
  {
   "cell_type": "code",
   "execution_count": 30,
   "id": "6cd429d2",
   "metadata": {},
   "outputs": [],
   "source": [
    "carnes_model = Sequential()\n",
    "carnes_model.add(Convolution2D(32, kernel_size=(3, 3),activation='linear',padding='same',input_shape=(216,384,3)))\n",
    "carnes_model.add(LeakyReLU(alpha=0.1))"
   ]
  },
  {
   "cell_type": "code",
   "execution_count": 31,
   "id": "35c1117c",
   "metadata": {},
   "outputs": [],
   "source": [
    "carnes_model.add(Flatten())\n",
    "carnes_model.add(Dense(32, activation='linear'))\n",
    "carnes_model.add(LeakyReLU(alpha=0.1))\n",
    "carnes_model.add(Dropout(0.5)) \n",
    "carnes_model.add(Dense(nClasses, activation='softmax'))"
   ]
  },
  {
   "cell_type": "code",
   "execution_count": 32,
   "id": "8c7457aa",
   "metadata": {
    "scrolled": true
   },
   "outputs": [
    {
     "name": "stdout",
     "output_type": "stream",
     "text": [
      "Model: \"sequential_2\"\n",
      "_________________________________________________________________\n",
      " Layer (type)                Output Shape              Param #   \n",
      "=================================================================\n",
      " conv2d_1 (Conv2D)           (None, 216, 384, 32)      896       \n",
      "                                                                 \n",
      " leaky_re_lu_2 (LeakyReLU)   (None, 216, 384, 32)      0         \n",
      "                                                                 \n",
      " flatten_1 (Flatten)         (None, 2654208)           0         \n",
      "                                                                 \n",
      " dense_2 (Dense)             (None, 32)                84934688  \n",
      "                                                                 \n",
      " leaky_re_lu_3 (LeakyReLU)   (None, 32)                0         \n",
      "                                                                 \n",
      " dropout_1 (Dropout)         (None, 32)                0         \n",
      "                                                                 \n",
      " dense_3 (Dense)             (None, 7)                 231       \n",
      "                                                                 \n",
      "=================================================================\n",
      "Total params: 84,935,815\n",
      "Trainable params: 84,935,815\n",
      "Non-trainable params: 0\n",
      "_________________________________________________________________\n"
     ]
    }
   ],
   "source": [
    "carnes_model.summary()\n",
    " \n",
    "carnes_model.compile(loss=keras.losses.categorical_crossentropy, optimizer=keras.optimizers.Adagrad(learning_rate=INIT_LR, decay=INIT_LR / 100),metrics=['accuracy'])"
   ]
  },
  {
   "cell_type": "code",
   "execution_count": 13,
   "id": "b9128950",
   "metadata": {
    "scrolled": false
   },
   "outputs": [
    {
     "ename": "NameError",
     "evalue": "name 'carnes_model' is not defined",
     "output_type": "error",
     "traceback": [
      "\u001b[1;31m---------------------------------------------------------------------------\u001b[0m",
      "\u001b[1;31mNameError\u001b[0m                                 Traceback (most recent call last)",
      "Input \u001b[1;32mIn [13]\u001b[0m, in \u001b[0;36m<cell line: 1>\u001b[1;34m()\u001b[0m\n\u001b[1;32m----> 1\u001b[0m carnes_train_dropout \u001b[38;5;241m=\u001b[39m \u001b[43mcarnes_model\u001b[49m\u001b[38;5;241m.\u001b[39mfit(train_X, train_label, batch_size\u001b[38;5;241m=\u001b[39mbatch_size,epochs\u001b[38;5;241m=\u001b[39mepochs,verbose\u001b[38;5;241m=\u001b[39m\u001b[38;5;241m1\u001b[39m,validation_data\u001b[38;5;241m=\u001b[39m(valid_X, valid_label))\n\u001b[0;32m      3\u001b[0m \u001b[38;5;66;03m# guardamos la red para usarla en un futuro, sin la necesidad de volver a entrenar la red.\u001b[39;00m\n\u001b[0;32m      4\u001b[0m carnes_model\u001b[38;5;241m.\u001b[39msave(\u001b[38;5;124m\"\u001b[39m\u001b[38;5;124mcarnes_mnist.h5py\u001b[39m\u001b[38;5;124m\"\u001b[39m)\n",
      "\u001b[1;31mNameError\u001b[0m: name 'carnes_model' is not defined"
     ]
    }
   ],
   "source": [
    "carnes_train_dropout = carnes_model.fit(train_X, train_label, batch_size=batch_size,epochs=epochs,verbose=1,validation_data=(valid_X, valid_label))\n",
    " \n",
    "# guardamos la red para usarla en un futuro, sin la necesidad de volver a entrenar la red.\n",
    "carnes_model.save(\"carnes_mnist.h5py\")"
   ]
  },
  {
   "cell_type": "code",
   "execution_count": 35,
   "id": "dc99c57f",
   "metadata": {
    "scrolled": false
   },
   "outputs": [
    {
     "name": "stdout",
     "output_type": "stream",
     "text": [
      "6/6 [==============================] - 7s 511ms/step - loss: 1.2288 - accuracy: 0.6585\n",
      "Test loss: 1.2287826538085938\n",
      "Test accuracy: 0.6585366129875183\n"
     ]
    }
   ],
   "source": [
    "test_eval = carnes_model.evaluate(test_X, test_Y_one_hot, verbose=1)\n",
    " \n",
    "print('Test loss:', test_eval[0])\n",
    "print('Test accuracy:', test_eval[1])"
   ]
  }
 ],
 "metadata": {
  "kernelspec": {
   "display_name": "Python 3 (ipykernel)",
   "language": "python",
   "name": "python3"
  },
  "language_info": {
   "codemirror_mode": {
    "name": "ipython",
    "version": 3
   },
   "file_extension": ".py",
   "mimetype": "text/x-python",
   "name": "python",
   "nbconvert_exporter": "python",
   "pygments_lexer": "ipython3",
   "version": "3.8.13"
  }
 },
 "nbformat": 4,
 "nbformat_minor": 5
}
